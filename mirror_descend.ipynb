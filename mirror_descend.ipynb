{
 "cells": [
  {
   "cell_type": "markdown",
   "metadata": {},
   "source": [
    "# Зеркальный спуск"
   ]
  },
  {
   "cell_type": "markdown",
   "metadata": {},
   "source": [
    "# Целевая функция\n",
    "\n",
    "Нижний индекс - номер числка/вектора в наборе.\n",
    "\n",
    "$$ x, s, a_i \\in \\mathbb{R}_+^n;\\quad c \\in \\mathbb{R}_+^m; \\quad i=\\overline{1,m} $$\n",
    "\n",
    "$$ f(x) = s^T x - \\sum_{i=1}^m c_i \\log(a_i^T x) + h(x) $$\n",
    "\n",
    "$$ \\nabla f(x) = s + \\sum_{i=1}^m \\dfrac{c_i}{a_i^T x}a_i + \\nabla h(x) $$"
   ]
  },
  {
   "cell_type": "markdown",
   "metadata": {},
   "source": [
    "В общем виде алгоритм зеркального спуска (верхний индекс - номер итерации):\n",
    "\n",
    "$$ x^{k+1} = \\arg \\min_{x \\in \\mathbb{R}_+^n} ~ \\left\\langle \\alpha^k \\nabla f(x^k), x \\right\\rangle + V_{x^k}(x) $$\n",
    "\n",
    "Где градиент исследуемой функции $f(x)$:\n",
    "\n",
    "$$ \\nabla f(x^k) = \\alpha^k\\left(s + \\sum_{i=1}^m \\dfrac{c_i}{a_i^T x^k}a_i + \\nabla h(x^k)\\right)$$\n",
    "\n",
    "В нашей задачи для оценки сходимости используется первая норма, поэтому в качестве расстояния Брэгмана мы выберем \n",
    "\n",
    "$$ V_{x}(y) = \\sum_{i=1}^n x_i \\log \\dfrac{y_i}{x_i}$$\n",
    "\n",
    "Итого, переходя к нормированным переменным $\\tilde{x}\\in\\Delta_n$ (после переходя со звёздочкой волну над $x$ опустим):\n",
    "\n",
    "$$ x^{k+1} = \\arg \\min_{x \\in \\mathbb{R}_+^n}  \\left\\langle \\alpha^k \\nabla f(x^k), x \\right\\rangle + \\sum_{i=1}^n x^k_i \\log \\dfrac{x_i}{x^k_i} =^* $$\n",
    "\n",
    "$$ =^*  \\arg \\min_{x \\in \\Delta_n} \\left\\langle \\alpha^k \\nabla f(x^k), x \\right\\rangle + \\sum_{i=1}^n x^k_i \\log \\dfrac{x_i}{x^k_i} = $$\n",
    "\n",
    "$$ = x^k \\cdot \\dfrac{\\exp\\left(-\\alpha^k \\nabla f(x^k) \\right)}{\\left\\lVert x^k\\cdot \\exp\\left(-\\alpha^k \\nabla f(x^k)\\right) \\right\\rVert_1}$$"
   ]
  },
  {
   "cell_type": "code",
   "execution_count": 70,
   "metadata": {},
   "outputs": [],
   "source": [
    "def f(x, s, c, a, h):\n",
    "    # h - penalty function\n",
    "    # s,c,a - const (see problem statement)\n",
    "    return np.dot(s, x) + sum(c[:] * np.log(np.dot(a[:][:], x))) + h(x)\n",
    "\n",
    "def grad_f(x, s, c, a, grad_h):\n",
    "    # grad_h - penalty function gradient\n",
    "    # s,c,a - const (see problem statement)\n",
    "    return s + sum(c[:] / np.dot(a[:], x) * a[:]) + grad_h(x)\n",
    "\n",
    "class MirrorDescend:\n",
    "    \n",
    "    dim   = 0     # dimension\n",
    "    grad  = None  # objective function gradient\n",
    "    alpha = None  # MD coef\n",
    "\n",
    "    def __init__(self, _dim, _grad, _alpha):\n",
    "        self.dim   = _dim\n",
    "        self.alpha = _alpha\n",
    "        self.grad  = _grad\n",
    "    \n",
    "    def do_nothing(x, t):\n",
    "        return\n",
    "    \n",
    "    def run(self, x0, steps_num = 1000, user_action = do_nothing):\n",
    "        x      = np.zeros(self.dim)\n",
    "        next_x = np.zeros(self.dim)\n",
    "        \n",
    "        x = x0\n",
    "        user_action(x, 0)\n",
    "\n",
    "        for i in range(1, steps_num):\n",
    "            z = np.exp(- self.alpha(i) * self.grad(x))\n",
    "            next_x = x * z / np.linalg.norm(x * z, 1)\n",
    "            user_action(next_x, i)\n",
    "            \n",
    "            x, next_x = next_x, x # swap array references\n",
    "\n",
    "        return x"
   ]
  },
  {
   "cell_type": "code",
   "execution_count": 71,
   "metadata": {},
   "outputs": [
    {
     "data": {
      "text/plain": [
       "array([0.08914119, 0.42557429, 0.48528452])"
      ]
     },
     "execution_count": 71,
     "metadata": {},
     "output_type": "execute_result"
    }
   ],
   "source": [
    "def h_test(x):\n",
    "    return 0.0\n",
    "\n",
    "def grad_h_test(x):\n",
    "    g = np.zeros(len(x))\n",
    "    return g\n",
    "\n",
    "def alpha_test(k):\n",
    "    return 0.001\n",
    "\n",
    "x0 = [1.0, 2.0, 3.0]\n",
    "s  = [1.0, 0.0, 0.0]\n",
    "c  = [1.0, -1.0, 0.0]\n",
    "a  = [[1.0, 2.0, 3.0], [4.0, 5.0, 6.0], [7.0, 8.0, 9.0]]\n",
    "\n",
    "def grad_test(x):\n",
    "    return grad_f(x, s, c, a, grad_h_test)\n",
    "\n",
    "md = MirrorDescend(len(x0), grad_test, alpha_test)\n",
    "md.run(x0, 100)"
   ]
  },
  {
   "cell_type": "code",
   "execution_count": null,
   "metadata": {},
   "outputs": [],
   "source": []
  },
  {
   "cell_type": "code",
   "execution_count": 10,
   "metadata": {},
   "outputs": [],
   "source": [
    "# Common seed functions\n",
    "\n",
    "import numpy as np\n",
    "\n",
    "def sqNorm(x):\n",
    "    return 0.5 * (x ** 2)\n",
    "\n",
    "def V_sqNorm(x):\n",
    "    return 0.5 * (x - y) ** 2\n",
    "\n",
    "def shanEntropy(x):\n",
    "    return x * np.log(x) - x\n",
    "\n",
    "def bitEntropy(x):\n",
    "    return x * np.log(x) + (1 - x) * np.log(1 - x)\n",
    "\n",
    "def burgEntropy(x):\n",
    "    return -np.log(x)\n",
    "\n",
    "def hellinger(x):\n",
    "    return -((1 - x ** 2) ** 0.5)\n",
    "\n",
    "def lpQuasiNorm(p, x):\n",
    "    if p <= 0 or p >= 1:\n",
    "        raise ValueError(\"p = \" + str(p) + \" is outside of (0,1) bounds in function lpQuasiNorm\")\n",
    "    return - (x ** p)\n",
    "\n",
    "def lpNorm(p, x):\n",
    "    if p <= 1: # or p > inf\n",
    "        raise ValueError(\"p = \" + str(p) + \" is outside of (1,inf) bounds in function lpNorm\")\n",
    "    return np.abs(x) ** p\n",
    "\n",
    "def exponential(x):\n",
    "    return np.exp(x)\n",
    "\n",
    "def inverse(x):\n",
    "    return 1 / x"
   ]
  }
 ],
 "metadata": {
  "kernelspec": {
   "display_name": "Python 3",
   "language": "python",
   "name": "python3"
  },
  "language_info": {
   "codemirror_mode": {
    "name": "ipython",
    "version": 2
   },
   "file_extension": ".py",
   "mimetype": "text/x-python",
   "name": "python",
   "nbconvert_exporter": "python",
   "pygments_lexer": "ipython2",
   "version": "2.7.15"
  }
 },
 "nbformat": 4,
 "nbformat_minor": 2
}
